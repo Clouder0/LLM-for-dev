{
 "cells": [
  {
   "cell_type": "code",
   "execution_count": 1,
   "metadata": {},
   "outputs": [],
   "source": [
    "from qdrant_client import QdrantClient\n",
    "\n",
    "client = QdrantClient(url=\"http://debianserver:6333\")\n"
   ]
  },
  {
   "cell_type": "code",
   "execution_count": 2,
   "metadata": {},
   "outputs": [],
   "source": [
    "client.set_model(\"sentence-transformers/all-MiniLM-L6-v2\")\n",
    "# comment this line to use dense vectors only\n",
    "client.set_sparse_model(\"prithivida/Splade_PP_en_v1\")"
   ]
  },
  {
   "cell_type": "code",
   "execution_count": 25,
   "metadata": {},
   "outputs": [
    {
     "data": {
      "text/plain": [
       "True"
      ]
     },
     "execution_count": 25,
     "metadata": {},
     "output_type": "execute_result"
    }
   ],
   "source": [
    "client.delete_collection(\"test-novel\")\n",
    "client.create_collection(\n",
    "    collection_name=\"test-novel\",\n",
    "    vectors_config=client.get_fastembed_vector_params(),\n",
    "    # comment this line to use dense vectors only\n",
    "    sparse_vectors_config=client.get_fastembed_sparse_vector_params(),  \n",
    ")"
   ]
  },
  {
   "cell_type": "code",
   "execution_count": 26,
   "metadata": {},
   "outputs": [
    {
     "data": {
      "text/plain": [
       "[({'title': '# 奇幻森林的冒险'}, '\\n'),\n",
       " ({'title': '## 引言'},\n",
       "  '\\n在一个遥远的王国边界，有一片神秘的奇幻森林，传说中栖息着许多奇异的生物和古老的魔法。很少有人敢于进入，因为进入森林的人都没有再回来过。故事的主人公是一个年轻的冒险者，他名叫艾文。\\n\\n'),\n",
       " ({'title': '## 第一章：艾文的决定'},\n",
       "  '\\n艾文是一个热爱冒险和探索的年轻人，他从小就听过很多关于奇幻森林的故事。尽管家人和朋友都劝他不要去，但他坚定地认为，自己注定要揭开这片森林的秘密。一天清晨，他收拾好行囊，带着勇气和好奇心，向森林进发。\\n\\n'),\n",
       " ({'title': '### 1.1 出发前的准备'},\n",
       "  '\\n在出发前，艾文去了城里最有名的图书馆，查阅了关于奇幻森林的资料。他发现，有一本古老的手稿记录了进入森林的路线，以及如何避开其中一些危险的生物。艾文将这本手稿复印在自己的笔记本上，准备在需要的时候参考。\\n\\n'),\n",
       " ({'title': '### 1.2 第一次穿越'},\n",
       "  '\\n艾文刚进入森林就感觉到这里的气息与外界完全不同。空气中弥漫着浓郁的花香，还有隐隐约约的奇怪声音。穿越森林的第一天，艾文没有遇到什么危险，但他能感觉到，有什么东西在暗中观察他。\\n\\n'),\n",
       " ({'title': '## 第二章：神秘生物'},\n",
       "  '\\n第二天，艾文继续深入森林。然而，他没走多远，就遇到了一只奇异的生物。这是一只会发光的小鹿，全身散发着柔和的蓝色光芒。起初，艾文感到惊讶和畏惧，但这只小鹿却没有攻击他的意思，还带着他走向一个隐秘的洞穴。\\n\\n'),\n",
       " ({'title': '### 2.1 洞穴中的秘密'},\n",
       "  '\\n在洞穴中，艾文发现了一块古老的石板，石板上刻有一些奇怪的符号。小鹿似乎知道这些符号的含义，带着艾文一步一步地解读。原来，这些符号记载着一种强大的魔法，可以帮助他在森林中找到失落的宝藏。\\n\\n'),\n",
       " ({'title': '### 2.2 获得帮助'},\n",
       "  '\\n艾文决定接受小鹿的帮助，解开这些符号的秘密。他们在洞穴中度过了几天，艾文学会了如何利用森林中的资源制作药剂和武器。通过这些，他在森林中的生存能力大大提高。\\n\\n'),\n",
       " ({'title': '## 第三章：最终的试炼'},\n",
       "  '\\n在小鹿的指引下，艾文终于来到了森林的深处，那里有一个古老的祭坛。据说，只有最勇敢的冒险者才能通过祭坛的试炼，获得最终的宝藏。\\n\\n'),\n",
       " ({'title': '### 3.1 面对恐惧'},\n",
       "  '\\n祭坛周围布满了各种陷阱和幻觉。艾文必须面对自己内心深处的恐惧，才能通过这些障碍。最终，他用智慧和勇气克服了一切，获得了进入祭坛的资格。\\n\\n'),\n",
       " ({'title': '### 3.2 发现宝藏'},\n",
       "  '\\n在祭坛的中心，艾文发现了一颗闪闪发光的宝石。据传，这颗宝石拥有改变命运的力量。艾文拿起宝石，感受到了其中的强大力量。他知道，这不仅仅是一件珍宝，还有可能是破解奇幻森林秘密的关键。\\n\\n')]"
      ]
     },
     "execution_count": 26,
     "metadata": {},
     "output_type": "execute_result"
    }
   ],
   "source": [
    "fulltext = \"\"\"# 奇幻森林的冒险\n",
    "\n",
    "## 引言\n",
    "\n",
    "在一个遥远的王国边界，有一片神秘的奇幻森林，传说中栖息着许多奇异的生物和古老的魔法。很少有人敢于进入，因为进入森林的人都没有再回来过。故事的主人公是一个年轻的冒险者，他名叫艾文。\n",
    "\n",
    "## 第一章：艾文的决定\n",
    "\n",
    "艾文是一个热爱冒险和探索的年轻人，他从小就听过很多关于奇幻森林的故事。尽管家人和朋友都劝他不要去，但他坚定地认为，自己注定要揭开这片森林的秘密。一天清晨，他收拾好行囊，带着勇气和好奇心，向森林进发。\n",
    "\n",
    "### 1.1 出发前的准备\n",
    "\n",
    "在出发前，艾文去了城里最有名的图书馆，查阅了关于奇幻森林的资料。他发现，有一本古老的手稿记录了进入森林的路线，以及如何避开其中一些危险的生物。艾文将这本手稿复印在自己的笔记本上，准备在需要的时候参考。\n",
    "\n",
    "### 1.2 第一次穿越\n",
    "\n",
    "艾文刚进入森林就感觉到这里的气息与外界完全不同。空气中弥漫着浓郁的花香，还有隐隐约约的奇怪声音。穿越森林的第一天，艾文没有遇到什么危险，但他能感觉到，有什么东西在暗中观察他。\n",
    "\n",
    "## 第二章：神秘生物\n",
    "\n",
    "第二天，艾文继续深入森林。然而，他没走多远，就遇到了一只奇异的生物。这是一只会发光的小鹿，全身散发着柔和的蓝色光芒。起初，艾文感到惊讶和畏惧，但这只小鹿却没有攻击他的意思，还带着他走向一个隐秘的洞穴。\n",
    "\n",
    "### 2.1 洞穴中的秘密\n",
    "\n",
    "在洞穴中，艾文发现了一块古老的石板，石板上刻有一些奇怪的符号。小鹿似乎知道这些符号的含义，带着艾文一步一步地解读。原来，这些符号记载着一种强大的魔法，可以帮助他在森林中找到失落的宝藏。\n",
    "\n",
    "### 2.2 获得帮助\n",
    "\n",
    "艾文决定接受小鹿的帮助，解开这些符号的秘密。他们在洞穴中度过了几天，艾文学会了如何利用森林中的资源制作药剂和武器。通过这些，他在森林中的生存能力大大提高。\n",
    "\n",
    "## 第三章：最终的试炼\n",
    "\n",
    "在小鹿的指引下，艾文终于来到了森林的深处，那里有一个古老的祭坛。据说，只有最勇敢的冒险者才能通过祭坛的试炼，获得最终的宝藏。\n",
    "\n",
    "### 3.1 面对恐惧\n",
    "\n",
    "祭坛周围布满了各种陷阱和幻觉。艾文必须面对自己内心深处的恐惧，才能通过这些障碍。最终，他用智慧和勇气克服了一切，获得了进入祭坛的资格。\n",
    "\n",
    "### 3.2 发现宝藏\n",
    "\n",
    "在祭坛的中心，艾文发现了一颗闪闪发光的宝石。据传，这颗宝石拥有改变命运的力量。艾文拿起宝石，感受到了其中的强大力量。他知道，这不仅仅是一件珍宝，还有可能是破解奇幻森林秘密的关键。\n",
    "\n",
    "## 结论\n",
    "\n",
    "艾文成功地揭开了奇幻森林的部分秘密，成为了传说中的英雄。他的冒险故事也激励了更多年轻的冒险者，带着勇气和智慧，踏上探索未知世界的旅程。\"\"\"\n",
    "\n",
    "metadata = []\n",
    "paragraphs  = []\n",
    "current  = \"\"\n",
    "for p in fulltext.split(\"\\n\"):\n",
    "    if p.startswith(\"#\"):\n",
    "        metadata.append({\"title\": p})\n",
    "        if len(current) > 0:\n",
    "            paragraphs.append(current)\n",
    "            current = \"\"\n",
    "    else:\n",
    "        current += p + \"\\n\"\n",
    "\n",
    "list(zip(metadata, paragraphs))\n"
   ]
  },
  {
   "cell_type": "code",
   "execution_count": 27,
   "metadata": {},
   "outputs": [
    {
     "data": {
      "text/plain": [
       "['8002364537584619812f185bbb362603',\n",
       " 'd02f94f036af4a9985f812d25a84b9ff',\n",
       " 'cfc209296e154d3da29e5fd28b257347',\n",
       " '9076de440c5a436c9ea6a16640cb38f0',\n",
       " '3388b2d6bd554e76870c7f315093df23',\n",
       " '3d607ad15e9b4e47b871f05b04a3f494',\n",
       " '52c41ead85b44308b0b9096e3a516ffc',\n",
       " '19533c79c9604b72bf4e111d57d40aae',\n",
       " 'edad697d4470459c8e5e505de835c58a',\n",
       " '79b0b53bd1454abeb0000f1626b2fa75',\n",
       " 'f536977a520b482082a43cf049de3394']"
      ]
     },
     "execution_count": 27,
     "metadata": {},
     "output_type": "execute_result"
    }
   ],
   "source": [
    "client.add(\n",
    "    collection_name=\"test-novel\",\n",
    "    documents=paragraphs,\n",
    "    metadata=metadata,\n",
    "    parallel=0,  # Use all available CPU cores to encode data. \n",
    "    # Requires wrapping code into if __name__ == '__main__' block\n",
    ")"
   ]
  },
  {
   "cell_type": "code",
   "execution_count": 30,
   "metadata": {},
   "outputs": [
    {
     "data": {
      "text/plain": [
       "[{'document': '\\n在一个遥远的王国边界，有一片神秘的奇幻森林，传说中栖息着许多奇异的生物和古老的魔法。很少有人敢于进入，因为进入森林的人都没有再回来过。故事的主人公是一个年轻的冒险者，他名叫艾文。\\n\\n',\n",
       "  'title': '## 引言'},\n",
       " {'document': '\\n祭坛周围布满了各种陷阱和幻觉。艾文必须面对自己内心深处的恐惧，才能通过这些障碍。最终，他用智慧和勇气克服了一切，获得了进入祭坛的资格。\\n\\n',\n",
       "  'title': '### 3.1 面对恐惧'},\n",
       " {'document': '\\n第二天，艾文继续深入森林。然而，他没走多远，就遇到了一只奇异的生物。这是一只会发光的小鹿，全身散发着柔和的蓝色光芒。起初，艾文感到惊讶和畏惧，但这只小鹿却没有攻击他的意思，还带着他走向一个隐秘的洞穴。\\n\\n',\n",
       "  'title': '## 第二章：神秘生物'},\n",
       " {'document': '\\n在小鹿的指引下，艾文终于来到了森林的深处，那里有一个古老的祭坛。据说，只有最勇敢的冒险者才能通过祭坛的试炼，获得最终的宝藏。\\n\\n',\n",
       "  'title': '## 第三章：最终的试炼'},\n",
       " {'document': '\\n艾文决定接受小鹿的帮助，解开这些符号的秘密。他们在洞穴中度过了几天，艾文学会了如何利用森林中的资源制作药剂和武器。通过这些，他在森林中的生存能力大大提高。\\n\\n',\n",
       "  'title': '### 2.2 获得帮助'}]"
      ]
     },
     "execution_count": 30,
     "metadata": {},
     "output_type": "execute_result"
    }
   ],
   "source": [
    "res = client.query(\"test-novel\", query_text=\"神秘生物\", limit=5)\n",
    "[x.metadata for x in res]\n"
   ]
  },
  {
   "cell_type": "code",
   "execution_count": null,
   "metadata": {},
   "outputs": [],
   "source": [
    "from litellm import completion\n",
    "\n",
    "def ask(q: str):\n",
    "    ctxs = client.query(\"test-novel\", query_text=q, limit=5)\n",
    "    print(ctxs)\n",
    "    ctx_str =  \"\\n\".join([\"title:\" + x.metadata[\"title\"] + \"\\ncontent:\" + x.document for x in ctxs])\n",
    "    print(ctx_str)\n",
    "    resp = completion(model=\"openai/deepseek-r1\", api_key=\"123\", api_base=\"http://192.168.5.31:8000\", messages=[\n",
    "        {\n",
    "            \"role\": \"system\",\n",
    "            \"content\": \"<context>\" +  ctx_str + \"</context>\"\n",
    "        },\n",
    "      {\n",
    "          \"role\": \"user\",\n",
    "          \"content\": q\n",
    "      }\n",
    "    ])\n",
    "    return resp[\"choices\"][0][\"message\"][\"content\"]"
   ]
  },
  {
   "cell_type": "code",
   "execution_count": 32,
   "metadata": {},
   "outputs": [
    {
     "name": "stdout",
     "output_type": "stream",
     "text": [
      "[QueryResponse(id='19533c79-c960-4b72-bf4e-111d57d40aae', embedding=None, sparse_embedding=None, metadata={'document': '\\n艾文决定接受小鹿的帮助，解开这些符号的秘密。他们在洞穴中度过了几天，艾文学会了如何利用森林中的资源制作药剂和武器。通过这些，他在森林中的生存能力大大提高。\\n\\n', 'title': '### 2.2 获得帮助'}, document='\\n艾文决定接受小鹿的帮助，解开这些符号的秘密。他们在洞穴中度过了几天，艾文学会了如何利用森林中的资源制作药剂和武器。通过这些，他在森林中的生存能力大大提高。\\n\\n', score=0.8333333333333333), QueryResponse(id='3388b2d6-bd55-4e76-870c-7f315093df23', embedding=None, sparse_embedding=None, metadata={'document': '\\n艾文刚进入森林就感觉到这里的气息与外界完全不同。空气中弥漫着浓郁的花香，还有隐隐约约的奇怪声音。穿越森林的第一天，艾文没有遇到什么危险，但他能感觉到，有什么东西在暗中观察他。\\n\\n', 'title': '### 1.2 第一次穿越'}, document='\\n艾文刚进入森林就感觉到这里的气息与外界完全不同。空气中弥漫着浓郁的花香，还有隐隐约约的奇怪声音。穿越森林的第一天，艾文没有遇到什么危险，但他能感觉到，有什么东西在暗中观察他。\\n\\n', score=0.8333333333333333), QueryResponse(id='9076de44-0c5a-436c-9ea6-a16640cb38f0', embedding=None, sparse_embedding=None, metadata={'document': '\\n在出发前，艾文去了城里最有名的图书馆，查阅了关于奇幻森林的资料。他发现，有一本古老的手稿记录了进入森林的路线，以及如何避开其中一些危险的生物。艾文将这本手稿复印在自己的笔记本上，准备在需要的时候参考。\\n\\n', 'title': '### 1.1 出发前的准备'}, document='\\n在出发前，艾文去了城里最有名的图书馆，查阅了关于奇幻森林的资料。他发现，有一本古老的手稿记录了进入森林的路线，以及如何避开其中一些危险的生物。艾文将这本手稿复印在自己的笔记本上，准备在需要的时候参考。\\n\\n', score=0.25)]\n",
      "title:### 2.2 获得帮助\n",
      "content:\n",
      "艾文决定接受小鹿的帮助，解开这些符号的秘密。他们在洞穴中度过了几天，艾文学会了如何利用森林中的资源制作药剂和武器。通过这些，他在森林中的生存能力大大提高。\n",
      "\n",
      "\n",
      "title:### 1.2 第一次穿越\n",
      "content:\n",
      "艾文刚进入森林就感觉到这里的气息与外界完全不同。空气中弥漫着浓郁的花香，还有隐隐约约的奇怪声音。穿越森林的第一天，艾文没有遇到什么危险，但他能感觉到，有什么东西在暗中观察他。\n",
      "\n",
      "\n",
      "title:### 1.1 出发前的准备\n",
      "content:\n",
      "在出发前，艾文去了城里最有名的图书馆，查阅了关于奇幻森林的资料。他发现，有一本古老的手稿记录了进入森林的路线，以及如何避开其中一些危险的生物。艾文将这本手稿复印在自己的笔记本上，准备在需要的时候参考。\n",
      "\n",
      "\n",
      "<think>\n",
      "嗯，艾文在奇幻森林中发现了很多东西。首先，他在进入森林的第一天没有遇到什么危险，但他能感觉到有什么东西在暗中观察他。这让我觉得森林里可能有隐形的生物或者某种神秘的力量在监视他。接着，艾文决定接受小鹿的帮助，解开森林中一些符号的秘密。他们在洞穴中度过了几天，艾文学会了如何利用森林中的资源制作药剂和武器，这大大提高了他在森林中的生存能力。此外，艾文在出发前去了城里最有名的图书馆，查阅了关于奇幻森林的资料，并复印了一本古老的手稿，记录了进入森林的路线和避开危险生物的方法。这些发现和经验帮助艾文更好地适应和应对奇幻森林的挑战。\n",
      "</think>\n",
      "\n",
      "在奇幻森林中，艾文发现了一些重要的线索和资源，包括：\n",
      "\n",
      "1. **神秘的符号与小鹿的帮助**：艾文决定接受小鹿的帮助，解开森林中的符号秘密。通过与小鹿的合作，艾文学会了利用森林资源制作药剂和武器，这大大提高了他在森林中的生存能力。\n",
      "\n",
      "2. **森林的奇特气息**：刚进入森林时，艾文感受到这里的气息与外界完全不同，空气中弥漫着浓郁的花香，还有隐隐约约的奇怪声音。第一天没有遇到危险，但他能感觉到有东西在暗中观察他。\n",
      "\n",
      "3. **古老手稿的指引**：在出发前，艾文去了城里最有名的图书馆，查阅关于奇幻森林的资料，并复印了一本古老的手稿。这手稿记录了进入森林的路线和避开危险生物的方法，为艾文提供了重要的参考和指引。\n",
      "\n",
      "这些发现和经验帮助艾文更好地适应和应对奇幻森林的挑战。\n"
     ]
    }
   ],
   "source": [
    "print(ask(\"艾文在森林中发现了什么\"))"
   ]
  },
  {
   "cell_type": "code",
   "execution_count": null,
   "metadata": {},
   "outputs": [],
   "source": []
  }
 ],
 "metadata": {
  "kernelspec": {
   "display_name": ".venv",
   "language": "python",
   "name": "python3"
  },
  "language_info": {
   "codemirror_mode": {
    "name": "ipython",
    "version": 3
   },
   "file_extension": ".py",
   "mimetype": "text/x-python",
   "name": "python",
   "nbconvert_exporter": "python",
   "pygments_lexer": "ipython3",
   "version": "3.12.8"
  }
 },
 "nbformat": 4,
 "nbformat_minor": 2
}
